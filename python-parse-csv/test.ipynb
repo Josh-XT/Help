{
 "cells": [
  {
   "attachments": {},
   "cell_type": "markdown",
   "metadata": {},
   "source": [
    "The purpose of this code example is to parse company names and addresses from the ``test.csv`` file in the same directory.\n",
    "\n",
    "In this example, we're working with a poorly formatted CSV file that does not have values wrapped in quotes, but needs to pull out the company name and address that both may have commas in them."
   ]
  },
  {
   "cell_type": "code",
   "execution_count": 1,
   "metadata": {},
   "outputs": [
    {
     "name": "stdout",
     "output_type": "stream",
     "text": [
      "[['test,  llc', ' 1000 west test street,  suite 200,  city,  st 55409'], ['test name', ' 100 test value,  test city,  test state,  55409']]\n"
     ]
    }
   ],
   "source": [
    "import csv\n",
    "new_vals = []\n",
    "with open('test.csv', newline='') as csvfile:\n",
    "    reader = csv.reader(csvfile, delimiter=',')\n",
    "    next(reader)  #skip the header row\n",
    "    for row in reader:\n",
    "        company_name = row[0]\n",
    "        address = row[1:]\n",
    "        for i in range(len(address)):\n",
    "            if \"street\" in address[i] or \"suite\" in address[i]:\n",
    "                company_name += ', ' + address[i-1]\n",
    "                address = address[i:]\n",
    "                break\n",
    "        address = ', '.join(address)\n",
    "        new_vals.append([company_name, address])\n",
    "\n",
    "print(new_vals)\n"
   ]
  }
 ],
 "metadata": {
  "kernelspec": {
   "display_name": "Python 3",
   "language": "python",
   "name": "python3"
  },
  "language_info": {
   "codemirror_mode": {
    "name": "ipython",
    "version": 3
   },
   "file_extension": ".py",
   "mimetype": "text/x-python",
   "name": "python",
   "nbconvert_exporter": "python",
   "pygments_lexer": "ipython3",
   "version": "3.10.6 (main, Nov 14 2022, 16:10:14) [GCC 11.3.0]"
  },
  "orig_nbformat": 4,
  "vscode": {
   "interpreter": {
    "hash": "916dbcbb3f70747c44a77c7bcd40155683ae19c65e1c03b4aa3499c5328201f1"
   }
  }
 },
 "nbformat": 4,
 "nbformat_minor": 2
}
